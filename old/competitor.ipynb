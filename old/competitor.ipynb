{
 "cells": [
  {
   "cell_type": "code",
   "execution_count": 2,
   "id": "c6a4329d",
   "metadata": {},
   "outputs": [],
   "source": [
    "from imblearn.over_sampling import (\n",
    "\tSMOTE,\n",
    "\tADASYN,\n",
    "\tBorderlineSMOTE,\n",
    ")\n",
    "from imblearn.combine import (\n",
    "\tSMOTETomek,\n",
    "\tSMOTEENN\n",
    ")\n",
    "from collections import defaultdict\n",
    "\n",
    "from scipy.stats import ranksums\n"
   ]
  },
  {
   "cell_type": "code",
   "execution_count": 3,
   "id": "ea7e20f8",
   "metadata": {},
   "outputs": [],
   "source": [
    "from joblib import Parallel, delayed\n",
    "from datetime import datetime\n",
    "import pandas as pd\n",
    "import numpy as np\n",
    "import pickle\n",
    "import os\n",
    "\n",
    "from sklearn.neighbors import KNeighborsClassifier\n",
    "from sklearn.metrics import roc_auc_score\n",
    "\n",
    "import wandb\n",
    "\n",
    "with open('data.pickle', 'rb') as fh:\n",
    "\tdata_mapper = pickle.load(fh)"
   ]
  },
  {
   "cell_type": "code",
   "execution_count": 5,
   "id": "fa639225",
   "metadata": {},
   "outputs": [
    {
     "data": {
      "text/plain": [
       "Index(['abalone-17_vs_7-8-9-10', 'abalone-20_vs_8-9-10', 'abalone-21_vs_8',\n",
       "       'abalone-3_vs_11', 'abalone19', 'abalone9-18', 'cleveland-0_vs_4',\n",
       "       'ecoli-0-1-4-7_vs_2-3-5-6', 'ecoli-0-1-4-7_vs_5-6',\n",
       "       'ecoli-0-2-6-7_vs_3-5', 'ecoli-0-4-6_vs_5', 'ecoli-0-6-7_vs_3-5',\n",
       "       'ecoli4', 'glass-0-6_vs_5', 'winequality-red-4',\n",
       "       'winequality-red-8_vs_6-7', 'winequality-white-9_vs_4', 'wisconsin',\n",
       "       'yeast-0-2-5-7-9_vs_3-6-8', 'yeast-2_vs_4'],\n",
       "      dtype='object')"
      ]
     },
     "execution_count": 5,
     "metadata": {},
     "output_type": "execute_result"
    }
   ],
   "source": [
    "splits = pd.read_csv('data_splits.csv')\n",
    "splits.columns"
   ]
  },
  {
   "cell_type": "code",
   "execution_count": 6,
   "id": "4d13cb5b",
   "metadata": {},
   "outputs": [],
   "source": [
    "competitor = {}\n",
    "for split_name in splits:\n",
    "\tfor idx in range(31):\n",
    "\n",
    "\t\tresults = {}\n",
    "\t\tdata_key = f\"{idx}_{split_name}\"\n",
    "\n",
    "\t\tx_train = data_mapper[data_key][\"x_train\"]\n",
    "\t\ty_train = data_mapper[data_key][\"y_train\"]\n",
    "\n",
    "\t\tx_validation = data_mapper[data_key][\"x_validation\"]\n",
    "\t\ty_validation = data_mapper[data_key][\"y_validation\"]\n",
    "\n",
    "\t\tx_comb = np.concatenate((x_train, x_validation), axis=0)\n",
    "\t\ty_comb = np.concatenate((y_train, y_validation), axis=0)\n",
    "\t\t\n",
    "\t\tx_test = data_mapper[data_key][\"x_test\"]\n",
    "\t\ty_test = data_mapper[data_key][\"y_test\"]\n",
    "\t\t# x_test = x_validation\n",
    "\t\t# y_test = y_validation\n",
    "\n",
    "\t\ttry:\n",
    "\t\t\tsmote = SMOTE(sampling_strategy='minority') \n",
    "\t\t\tx, y = smote.fit_resample(x_comb, y_comb)\n",
    "\t\t\tmodel = KNeighborsClassifier(n_neighbors=5)\n",
    "\t\t\tmodel.fit(x, y)\n",
    "\t\t\ty_pred = model.predict(x_test)\n",
    "\t\t\tresults['SMOTE'] = roc_auc_score(y_test, y_pred)\n",
    "\t\texcept:\n",
    "\t\t\tresults['SMOTE'] = 0\n",
    "\n",
    "\t\ttry:\n",
    "\t\t\tadasyn = ADASYN(sampling_strategy='minority')\n",
    "\t\t\tx, y = adasyn.fit_resample(x_comb, y_comb)\n",
    "\t\t\tmodel = KNeighborsClassifier(n_neighbors=5)\n",
    "\t\t\tmodel.fit(x, y)\n",
    "\t\t\ty_pred = model.predict(x_test)\n",
    "\t\t\tresults['ADASYN'] = roc_auc_score(y_test, y_pred)\n",
    "\t\texcept:\n",
    "\t\t\tresults['ADASYN'] = 0\n",
    "\t\t\n",
    "\t\ttry:\n",
    "\t\t\tblsmote = BorderlineSMOTE(sampling_strategy='minority', kind='borderline-1')\n",
    "\t\t\tx, y = blsmote.fit_resample(x_comb, y_comb)\n",
    "\t\t\tmodel = KNeighborsClassifier(n_neighbors=5)\n",
    "\t\t\tmodel.fit(x, y)\n",
    "\t\t\ty_pred = model.predict(x_test)\n",
    "\t\t\tresults['Borderline SMOTE'] = roc_auc_score(y_test, y_pred)\n",
    "\t\texcept:\n",
    "\t\t\tresults['Borderline SMOTE'] = 0\n",
    "\n",
    "\t\ttry:\n",
    "\t\t\tsmt_tomek = SMOTETomek(sampling_strategy='auto')\n",
    "\t\t\tx, y = smt_tomek.fit_resample(x_comb, y_comb)\n",
    "\t\t\tmodel = KNeighborsClassifier(n_neighbors=5)\n",
    "\t\t\tmodel.fit(x, y)\n",
    "\t\t\ty_pred = model.predict(x_test)\n",
    "\t\t\tresults['SMOTE Tomek'] = roc_auc_score(y_test, y_pred)\n",
    "\t\texcept:\n",
    "\t\t\tresults['SMOTE Tomek'] = 0\n",
    "\t\t\n",
    "\t\ttry:\n",
    "\t\t\tsmt_eenn = SMOTEENN(sampling_strategy='auto')\n",
    "\t\t\tx, y = smt_eenn.fit_resample(x_comb, y_comb)\n",
    "\t\t\tmodel = KNeighborsClassifier(n_neighbors=5)\n",
    "\t\t\tmodel.fit(x, y)\n",
    "\t\t\ty_pred = model.predict(x_test)\n",
    "\t\t\tresults['SMOTE EENN'] = roc_auc_score(y_test, y_pred)\n",
    "\t\texcept:\n",
    "\t\t\tresults['SMOTE EENN'] = 0\n",
    "\n",
    "\t\tcompetitor[data_key] = results"
   ]
  },
  {
   "cell_type": "code",
   "execution_count": 7,
   "id": "999cec33",
   "metadata": {},
   "outputs": [],
   "source": [
    "records = []\n",
    "from collections import defaultdict\n",
    "by_comp = defaultdict(list)\n",
    "\n",
    "results = pd.read_csv('long_run_2025-07-11.csv')\n",
    "for dataset in np.unique(results['Dataset']):\n",
    "\tmy_scheme = results['Optimized test AUC'][results['Dataset'] == dataset]\n",
    "\tvalues = defaultdict(list)\n",
    "\tfor data_key in competitor:\n",
    "\t\tif dataset in data_key:\t\n",
    "\t\t\tfor t in competitor[data_key]:\n",
    "\t\t\t\tvalues[t].append(competitor[data_key][t])\n",
    "\n",
    "\tfor t in values:\n",
    "\t\tp = ranksums(values[t], my_scheme).pvalue\n",
    "\n",
    "\t\toutcome = 'tie' if p > 0.05 else 'win'\n",
    "\t\toutcome = outcome if np.mean(values[t]) < np.mean(my_scheme) else \"lose\"\n",
    "\t\trecord = {\n",
    "\t\t\tf\"Dataset\": dataset,\n",
    "\t\t\tf\"Competitor\": t,\n",
    "\t\t\t\"Outcome\": outcome,\n",
    "\t\t\tf\"Pval < 0.05\": f\"{str(p < 0.05)} - {round(p,3)}\",\n",
    "\t\t\tf\"Comp min\": np.min(values[t]),\n",
    "\t\t\tf\"Comp avg\": np.mean(values[t]),\n",
    "\t\t\tf\"Comp max\": np.max(values[t]),\n",
    "\t\t\tf\"cVAE min\": np.min(my_scheme),\n",
    "\t\t\tf\"cVAE avg\": np.mean(my_scheme),\n",
    "\t\t\tf\"cVAE max\": np.max(my_scheme),\n",
    "\t\t}\n",
    "\t\tby_comp[t].append(outcome)\n",
    "\n",
    "\t\trecords.append(record)\n",
    "\t\t\n",
    "\trecords.append(record)\n",
    "save = pd.DataFrame.from_records(records)#.to_csv('comparison.csv', index=False)"
   ]
  },
  {
   "cell_type": "code",
   "execution_count": 16,
   "id": "1f27af10",
   "metadata": {},
   "outputs": [],
   "source": [
    "comparison = []\n",
    "for t in by_comp:\n",
    "    for val in pd.DataFrame(by_comp[t]).value_counts().items():\n",
    "        comparison.append({\n",
    "            \"Competitor\": t,\n",
    "            \"Outcome\": val[0][0],\n",
    "            \"Count\": val[1]\n",
    "\t\t})\n",
    "pd.DataFrame.from_records(comparison).to_excel('wlt.xlsx', index=False)"
   ]
  },
  {
   "cell_type": "code",
   "execution_count": 53,
   "id": "dfff40c8",
   "metadata": {},
   "outputs": [
    {
     "data": {
      "text/plain": [
       "Outcome\n",
       "lose    38\n",
       "tie     29\n",
       "win     11\n",
       "Name: count, dtype: int64"
      ]
     },
     "execution_count": 53,
     "metadata": {},
     "output_type": "execute_result"
    }
   ],
   "source": [
    "save['Outcome'].value_counts()"
   ]
  }
 ],
 "metadata": {
  "kernelspec": {
   "display_name": "Python 3",
   "language": "python",
   "name": "python3"
  },
  "language_info": {
   "codemirror_mode": {
    "name": "ipython",
    "version": 3
   },
   "file_extension": ".py",
   "mimetype": "text/x-python",
   "name": "python",
   "nbconvert_exporter": "python",
   "pygments_lexer": "ipython3",
   "version": "3.12.10"
  }
 },
 "nbformat": 4,
 "nbformat_minor": 5
}
