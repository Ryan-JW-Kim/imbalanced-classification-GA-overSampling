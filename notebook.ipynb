{
 "cells": [
  {
   "cell_type": "code",
   "execution_count": 1,
   "id": "61fd24c3",
   "metadata": {},
   "outputs": [],
   "source": [
    "from sklearn.neighbors import KNeighborsClassifier\n",
    "from sklearn.metrics import roc_auc_score\n",
    "from scipy.stats import ranksums\n",
    "\n",
    "from pymoo.util.nds.non_dominated_sorting import NonDominatedSorting\n",
    "from pymoo.operators.mutation.bitflip import BitflipMutation\n",
    "from pymoo.operators.sampling.rnd import Sampling\n",
    "from pymoo.operators.crossover.hux import HUX\n",
    "from pymoo.algorithms.moo.nsga2 import NSGA2\n",
    "from pymoo.core.problem import Problem\n",
    "from pymoo.optimize import minimize\n",
    "\n",
    "from torch.utils.data import Dataset, DataLoader\n",
    "import torch.optim as optim\n",
    "import torch.nn as nn\n",
    "import torch\n",
    "\n",
    "from joblib import Parallel, delayed\n",
    "from datetime import datetime\n",
    "import pandas as pd\n",
    "import numpy as np\n",
    "import pickle\n",
    "import os\n",
    "\n",
    "from main import *"
   ]
  },
  {
   "cell_type": "code",
   "execution_count": 2,
   "id": "c0711e60",
   "metadata": {},
   "outputs": [],
   "source": [
    "with open('data.pickle', 'rb') as fh:\n",
    "\tdata_mapper = pickle.load(fh)\n",
    "\tsplits = pd.read_csv('data_splits.csv')"
   ]
  },
  {
   "cell_type": "code",
   "execution_count": 3,
   "id": "b8410e07",
   "metadata": {},
   "outputs": [
    {
     "name": "stdout",
     "output_type": "stream",
     "text": [
      "abalone-20_vs_8-9-10\n",
      "72.69230769230768\n",
      "\n",
      "abalone19\n",
      "129.4375\n",
      "\n",
      "abalone9-18\n",
      "16.380952380952387\n",
      "\n",
      "cleveland-0_vs_4\n",
      "13.333333333333329\n",
      "\n",
      "ecoli-0-1-4-7_vs_2-3-5-6\n",
      "10.69032258064516\n",
      "\n",
      "ecoli-0-2-6-7_vs_3-5\n",
      "9.181818181818183\n",
      "\n",
      "ecoli-0-4-6_vs_5\n",
      "9.100000000000001\n",
      "\n",
      "ecoli-0-6-7_vs_3-5\n",
      "9.090909090909088\n",
      "\n",
      "ecoli1\n",
      "3.3552305080318656\n",
      "\n",
      "ecoli4\n",
      "15.800000000000004\n",
      "\n",
      "glass-0-6_vs_5\n",
      "11.367741935483872\n",
      "\n",
      "glass1\n",
      "1.815789473684211\n",
      "\n",
      "glass6\n",
      "6.642857142857142\n",
      "\n",
      "haberman\n",
      "2.825000000000001\n",
      "\n",
      "pima\n",
      "1.865671641791045\n",
      "\n",
      "winequality-red-8_vs_6-7\n",
      "46.444444444444414\n",
      "\n",
      "wisconsin\n",
      "1.865546218487395\n",
      "\n",
      "yeast-2_vs_4\n",
      "9.08868486352357\n",
      "\n",
      "yeast4\n",
      "28.127642679900738\n",
      "\n"
     ]
    }
   ],
   "source": [
    "for key in splits:\n",
    "\tminority_varience = []\n",
    "\tglobal_varience = []\n",
    "\tauc_baseline = []\n",
    "\tir_baseline = []\n",
    "\tif 'zoo' in key: continue\n",
    "\tfor data_key in splits[key]:\n",
    "\t\t# print(data_key)\n",
    "\t\tsplit_number, dataset_name = split_info(data_key)\n",
    "\n",
    "\t\tx_train = data_mapper[data_key]['x_train'] \n",
    "\t\ty_train = data_mapper[data_key]['y_train']\n",
    "\t\tx_validation = data_mapper[data_key]['x_validation'] \n",
    "\t\ty_validation = data_mapper[data_key]['y_validation']\n",
    "\t\tx_test = data_mapper[data_key]['x_test'] \n",
    "\t\ty_test = data_mapper[data_key]['y_test']\n",
    "\t\t\n",
    "\t\tmodel = KNeighborsClassifier(n_neighbors=AUC_Optimizer.n_neighbours)\n",
    "\t\tmodel.fit(x_train, y_train)\n",
    "\n",
    "\t\ty_pred = model.predict(x_validation)\n",
    "\t\tbaseline_validation_AUC = roc_auc_score(y_validation, y_pred)\n",
    "\t\tauc_baseline.append(baseline_validation_AUC)\n",
    "\t\t\n",
    "\t\tminority_label = pd.DataFrame(y_train).value_counts().argmin()\n",
    "\t\tminority_indices = np.where(y_train==minority_label)[0]\n",
    "\t\tminority_features = x_train[minority_indices]\n",
    "\t\tminority_labels = y_train[minority_indices]\n",
    "\t\t\n",
    "\t\t# print(len(minority_labels))\n",
    "\t\t\n",
    "\t\tminority_label = pd.DataFrame(y_validation).value_counts().argmin()\n",
    "\t\tminority_indices = np.where(y_validation==minority_label)[0]\n",
    "\t\tminority_features = x_validation[minority_indices]\n",
    "\t\tminority_labels = y_validation[minority_indices]\n",
    "\t\t\n",
    "\t\t# problem = AUC_Optimizer(\n",
    "\t\t# \tx_train, y_train, \n",
    "\t\t# \tx_validation, y_validation,\n",
    "\t\t# \tX_test=x_test,\n",
    "\t\t# \tY_test=y_test)\n",
    "\n",
    "\t\t# algorithm = NSGA2(pop_size=AUC_Optimizer.population_size, sampling=DiverseCustomSampling(), crossover=HUX(), mutation=BitflipMutation(), eliminate_duplicates=True)\n",
    "\t\t# result = minimize(problem, algorithm, ('n_gen', AUC_Optimizer.population_size), save_history=False)\n",
    "\n",
    "\t\t# for instance in result.X:\n",
    "\t\t# \t# instance = [idx]\n",
    "\n",
    "\t\t# \tif np.sum(instance) >= AUC_Optimizer.n_neighbours:\n",
    "\t\t# \t\tmodel = KNeighborsClassifier(n_neighbors=AUC_Optimizer.n_neighbours)\n",
    "\t\t# \t\tmodel.fit(\n",
    "\t\t# \t\t\tself.X_train[instance], \n",
    "\t\t# \t\t\tself.y_train[instance]\n",
    "\t\t# \t\t)\n",
    "\t\t# \t\ty_pred = model.predict(self.X_val)\n",
    "\t\t# \t\tvalidation_aucs.append(roc_auc_score(self.y_val, y_pred))\n",
    "\t\t# \t\ty_pred = model.predict(self.X_TEST)\n",
    "\t\t# \t\ttest_aucs.append(roc_auc_score(self.Y_TEST, y_pred))\n",
    "\t\t# \telse:\n",
    "\t\t# \t\tvalidation_aucs.append(0)\n",
    "\t\t# \t\ttest_aucs.append(0)\n",
    "\t\t\t\t\n",
    "\t\t# validation_idx = np.argmax(validation_aucs)\n",
    "\t\tir_baseline.append(calculate_IR(y_train))\n",
    "\t\t# print(len(minority_labels))\n",
    "\n",
    "\t\t# Define configuration of cVAE\n",
    "\t\t# input_dim = x_train[0].shape[0]\n",
    "\t\t# device = torch.device('cuda' if torch.cuda.is_available() else 'cpu')\n",
    "\t\t# cvae = ConditionalVAE(input_dim, 1, input_dim//2, 2).to(device)\n",
    "\t\t# cvae = train(x_train, y_train, cvae, lr=1e-3, epochs=200, batch_size=20, beta=0.8)\n",
    "\n",
    "\t\t# global_varience.append(calculate_latent_dimension_variance(x_train, y_train, cvae))\n",
    "\t\t# minority_varience.append(calculate_latent_dimension_variance(minority_features, minority_labels, cvae))\n",
    "\tprint(key)\n",
    "\t# print(np.mean(auc_baseline, axis=0), np.min(auc_baseline, axis=0), np.max(auc_baseline, axis=0))\n",
    "\tprint(f\"{np.mean(ir_baseline)}\\n\")\n",
    "\t\t"
   ]
  },
  {
   "cell_type": "code",
   "execution_count": 10,
   "id": "c2b7c506",
   "metadata": {},
   "outputs": [
    {
     "data": {
      "text/plain": [
       "(array([0.9970051 , 0.96717733], dtype=float32),\n",
       " array([0.42999035, 0.57313544], dtype=float32),\n",
       " array([1.9429154, 1.9661407], dtype=float32))"
      ]
     },
     "execution_count": 10,
     "metadata": {},
     "output_type": "execute_result"
    }
   ],
   "source": [
    "np.mean(minority_varience, axis=0), np.min(minority_varience, axis=0), np.max(minority_varience, axis=0),"
   ]
  },
  {
   "cell_type": "code",
   "execution_count": 11,
   "id": "4972dd38",
   "metadata": {},
   "outputs": [
    {
     "data": {
      "text/plain": [
       "(array([0.98154336, 1.0109628 ], dtype=float32),\n",
       " array([0.90596944, 0.9211443 ], dtype=float32),\n",
       " array([1.0840032, 1.1332822], dtype=float32))"
      ]
     },
     "execution_count": 11,
     "metadata": {},
     "output_type": "execute_result"
    }
   ],
   "source": [
    "np.mean(global_varience, axis=0), np.min(global_varience, axis=0), np.max(global_varience, axis=0),"
   ]
  },
  {
   "cell_type": "code",
   "execution_count": 22,
   "id": "f8ff37cb",
   "metadata": {},
   "outputs": [
    {
     "data": {
      "text/plain": [
       "(np.float64(0.5545940363475055),\n",
       " np.float64(0.4958100558659218),\n",
       " np.float64(0.6538461538461539))"
      ]
     },
     "execution_count": 22,
     "metadata": {},
     "output_type": "execute_result"
    }
   ],
   "source": [
    "np.mean(auc_baseline, axis=0), np.min(auc_baseline, axis=0), np.max(auc_baseline, axis=0),"
   ]
  },
  {
   "cell_type": "code",
   "execution_count": 13,
   "id": "2fc99fb3",
   "metadata": {},
   "outputs": [],
   "source": [
    "problem = AUC_Optimizer(\n",
    "\tx_train, y_train, \n",
    "\tx_validation, y_validation,\n",
    "\tX_test=x_test,\n",
    "\tY_test=y_test)\n",
    "\n",
    "algorithm = NSGA2(pop_size=AUC_Optimizer.population_size, sampling=DiverseCustomSampling(), crossover=HUX(), mutation=BitflipMutation(), eliminate_duplicates=True)\n",
    "result = minimize(problem, algorithm, ('n_gen', AUC_Optimizer.population_size), save_history=False)"
   ]
  },
  {
   "cell_type": "code",
   "execution_count": 20,
   "id": "d9a68a80",
   "metadata": {},
   "outputs": [
    {
     "data": {
      "text/plain": [
       "(742,)"
      ]
     },
     "execution_count": 20,
     "metadata": {},
     "output_type": "execute_result"
    }
   ],
   "source": [
    "result.pop[0].X.shape"
   ]
  }
 ],
 "metadata": {
  "kernelspec": {
   "display_name": "Python 3",
   "language": "python",
   "name": "python3"
  },
  "language_info": {
   "codemirror_mode": {
    "name": "ipython",
    "version": 3
   },
   "file_extension": ".py",
   "mimetype": "text/x-python",
   "name": "python",
   "nbconvert_exporter": "python",
   "pygments_lexer": "ipython3",
   "version": "3.13.3"
  }
 },
 "nbformat": 4,
 "nbformat_minor": 5
}
